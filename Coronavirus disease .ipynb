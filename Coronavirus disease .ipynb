{
 "cells": [
  {
   "cell_type": "code",
   "execution_count": 2,
   "metadata": {},
   "outputs": [],
   "source": [
    "url=\"https://health-infobase.canada.ca/src/data/covidLive/covid19.csv\""
   ]
  },
  {
   "cell_type": "code",
   "execution_count": null,
   "metadata": {},
   "outputs": [],
   "source": [
    "import numpy as np \n",
    "import matplotlib.pyplot as plt \n",
    "import matplotlib.colors as mcolors\n",
    "import pandas as pd \n"
   ]
  },
  {
   "cell_type": "code",
   "execution_count": null,
   "metadata": {},
   "outputs": [],
   "source": [
    "latest_data = pd.read_csv(url)"
   ]
  },
  {
   "cell_type": "code",
   "execution_count": null,
   "metadata": {},
   "outputs": [],
   "source": [
    "latest_data"
   ]
  },
  {
   "cell_type": "code",
   "execution_count": null,
   "metadata": {},
   "outputs": [],
   "source": [
    "latest_data.head()"
   ]
  },
  {
   "cell_type": "code",
   "execution_count": null,
   "metadata": {},
   "outputs": [],
   "source": [
    "plt.figure(figsize=(15,5))\n",
    "plt.bar(latest_data[\"date\"],latest_data[\"numdeaths\"],color='royalblue')\n",
    "plt.ylabel('Number of the deaths')\n",
    "plt.xlabel('Date')\n",
    "plt.xticks(fontsize=8,rotation=45)\n",
    "plt.title('Canada daily increases deaths')\n",
    "plt.show()"
   ]
  },
  {
   "cell_type": "code",
   "execution_count": null,
   "metadata": {},
   "outputs": [],
   "source": [
    "plt.figure(figsize=(15,5))\n",
    "plt.bar(latest_data[\"date\"],latest_data[\"numtotal\"],color='red')\n",
    "plt.xticks(fontsize=8,rotation=45)\n",
    "\n",
    "plt.ylabel('Number of cases')\n",
    "plt.xlabel('Date')\n",
    "plt.title('Canada daily increases cases')\n",
    "plt.show()"
   ]
  },
  {
   "cell_type": "code",
   "execution_count": null,
   "metadata": {},
   "outputs": [],
   "source": []
  },
  {
   "cell_type": "code",
   "execution_count": null,
   "metadata": {},
   "outputs": [],
   "source": [
    "plt.figure(figsize=(15,5))\n",
    "plt.bar(latest_data[\"prname\"],latest_data[\"numdeaths\"])\n",
    "plt.xticks(fontsize=10,rotation=45)\n",
    "plt.grid(True)\n",
    "plt.show()"
   ]
  },
  {
   "cell_type": "code",
   "execution_count": null,
   "metadata": {},
   "outputs": [],
   "source": [
    "plt.figure(figsize=(15,5))\n",
    "plt.scatter(latest_data[\"prname\"],latest_data[\"numdeaths\"])\n",
    "plt.xticks(fontsize=10,rotation=45)\n",
    "plt.show()"
   ]
  },
  {
   "cell_type": "code",
   "execution_count": null,
   "metadata": {},
   "outputs": [],
   "source": [
    "pr=latest_data[latest_data[\"pruid\"]==1]"
   ]
  },
  {
   "cell_type": "code",
   "execution_count": null,
   "metadata": {},
   "outputs": [],
   "source": [
    "pr"
   ]
  },
  {
   "cell_type": "code",
   "execution_count": null,
   "metadata": {},
   "outputs": [],
   "source": [
    "plt.figure(figsize=(60,20))\n",
    "plt.bar(latest_data[latest_data[\"prnameFR\"]==\"Alberta\"][\"date\"],(latest_data[latest_data[\"prnameFR\"]==\"Alberta\"][\"numtotal\"]),color='royalblue')\n",
    "plt.ylabel('Number of cases',fontsize=40)\n",
    "plt.xlabel('Date',fontsize=40)\n",
    "plt.xticks(fontsize=20,rotation=45)\n",
    "plt.yticks(fontsize=20)\n",
    "plt.title('Alberta daily increases cases')\n",
    "plt.show()"
   ]
  },
  {
   "cell_type": "code",
   "execution_count": null,
   "metadata": {},
   "outputs": [],
   "source": [
    "plt.figure(figsize=(60,20))\n",
    "plt.bar(latest_data[latest_data[\"prname\"]==\"British Columbia\"][\"date\"],(latest_data[latest_data[\"prname\"]==\"British Columbia\"][\"numtotal\"]),color='royalblue')\n",
    "plt.ylabel('Number of cases')\n",
    "plt.xlabel('Date')\n",
    "plt.xticks(fontsize=20,rotation=45)\n",
    "plt.show()"
   ]
  },
  {
   "cell_type": "code",
   "execution_count": null,
   "metadata": {},
   "outputs": [],
   "source": [
    "plt.figure(figsize=(60,10))\n",
    "plt.bar(latest_data[latest_data[\"prnameFR\"]==\"Ontario\"][\"date\"],(latest_data[latest_data[\"prnameFR\"]==\"Ontario\"][\"numtotal\"]),color='royalblue')\n",
    "plt.ylabel('Number of cases')\n",
    "plt.xlabel('Date')\n",
    "plt.xticks(fontsize=20,rotation=45)\n",
    "plt.title('Alberta daily increases cases')\n",
    "plt.show()"
   ]
  },
  {
   "cell_type": "code",
   "execution_count": null,
   "metadata": {},
   "outputs": [],
   "source": []
  },
  {
   "cell_type": "code",
   "execution_count": null,
   "metadata": {},
   "outputs": [],
   "source": [
    "plt.figure(figsize=(15,10))\n",
    "plt.bar(latest_data[latest_data[\"prnameFR\"]==\"Yukon\"][\"date\"],(latest_data[latest_data[\"prnameFR\"]==\"Yukon\"][\"numtotal\"]),color='royalblue')\n",
    "plt.ylabel('Number of cases')\n",
    "plt.xlabel('Date')\n",
    "plt.xticks(fontsize=10,rotation=45)\n",
    "plt.title('Alberta daily increases cases')\n",
    "plt.show()"
   ]
  },
  {
   "cell_type": "code",
   "execution_count": null,
   "metadata": {},
   "outputs": [],
   "source": [
    "latest_data=latest_data.set_index(\"prname\")"
   ]
  },
  {
   "cell_type": "code",
   "execution_count": null,
   "metadata": {},
   "outputs": [],
   "source": [
    "latest_data2=latest_data.drop(\"Canada\", axis=0)"
   ]
  },
  {
   "cell_type": "code",
   "execution_count": null,
   "metadata": {},
   "outputs": [],
   "source": [
    "latest_data2"
   ]
  },
  {
   "cell_type": "code",
   "execution_count": null,
   "metadata": {},
   "outputs": [],
   "source": [
    "plt.figure(figsize=(15,5))\n",
    "plt.bar(latest_data2.index,latest_data2[\"numdeaths\"])\n",
    "plt.xticks(fontsize=10,rotation=45)\n",
    "plt.grid(True)\n",
    "plt.show()"
   ]
  },
  {
   "cell_type": "code",
   "execution_count": null,
   "metadata": {},
   "outputs": [],
   "source": [
    "plt.figure(figsize=(15,5))\n",
    "plt.bar(latest_data2.index,latest_data2[\"numtotal\"])\n",
    "plt.xticks(fontsize=10,rotation=45)\n",
    "plt.grid(True)\n",
    "plt.show()"
   ]
  },
  {
   "cell_type": "code",
   "execution_count": null,
   "metadata": {},
   "outputs": [],
   "source": [
    "A=latest_data2[latest_data2[\"date\"]==\"02-05-2020\"]"
   ]
  },
  {
   "cell_type": "code",
   "execution_count": null,
   "metadata": {},
   "outputs": [],
   "source": [
    "B=latest_data2[\"date\"]==\"02-05-2020\"\n",
    "sum(B)"
   ]
  },
  {
   "cell_type": "code",
   "execution_count": null,
   "metadata": {},
   "outputs": [],
   "source": [
    "A"
   ]
  },
  {
   "cell_type": "code",
   "execution_count": null,
   "metadata": {},
   "outputs": [],
   "source": [
    "plt.figure(figsize=(15,5))\n",
    "plt.bar(latest_data2[latest_data2[\"date\"]==\"04-05-2020\"].index,\n",
    "        (latest_data2[latest_data2[\"date\"]==\"04-05-2020\"][\"numtotal\"])\n",
    "        -(latest_data2[latest_data2[\"date\"]==\"03-05-2020\"][\"numtotal\"]))\n",
    "plt.xticks(fontsize=10,rotation=45)\n",
    "plt.grid(True)\n",
    "plt.show()"
   ]
  },
  {
   "cell_type": "code",
   "execution_count": null,
   "metadata": {},
   "outputs": [],
   "source": [
    "plt.figure(figsize=(15,5))\n",
    "plt.bar(latest_data2[latest_data2[\"date\"]==\"03-05-2020\"].index,\n",
    "        (latest_data2[latest_data2[\"date\"]==\"03-05-2020\"][\"numtotal\"])\n",
    "        -(latest_data2[latest_data2[\"date\"]==\"02-05-2020\"][\"numtotal\"]))\n",
    "plt.xticks(fontsize=10,rotation=45)\n",
    "plt.grid(True)\n",
    "plt.show()"
   ]
  },
  {
   "cell_type": "code",
   "execution_count": null,
   "metadata": {},
   "outputs": [],
   "source": [
    "plt.figure(figsize=(15,5))\n",
    "plt.bar(latest_data2[latest_data2[\"date\"]==\"04-05-2020\"].index,\n",
    "        (latest_data2[latest_data2[\"date\"]==\"04-05-2020\"][\"numdeaths\"])\n",
    "        -(latest_data2[latest_data2[\"date\"]==\"03-05-2020\"][\"numdeaths\"]))\n",
    "plt.xticks(fontsize=10,rotation=45)\n",
    "plt.grid(True)\n",
    "plt.show()"
   ]
  },
  {
   "cell_type": "code",
   "execution_count": null,
   "metadata": {},
   "outputs": [],
   "source": []
  }
 ],
 "metadata": {
  "kernelspec": {
   "display_name": "Python 3",
   "language": "python",
   "name": "python3"
  },
  "language_info": {
   "codemirror_mode": {
    "name": "ipython",
    "version": 3
   },
   "file_extension": ".py",
   "mimetype": "text/x-python",
   "name": "python",
   "nbconvert_exporter": "python",
   "pygments_lexer": "ipython3",
   "version": "3.8.2"
  }
 },
 "nbformat": 4,
 "nbformat_minor": 4
}
